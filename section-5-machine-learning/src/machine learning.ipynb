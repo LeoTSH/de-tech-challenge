{
 "cells": [
  {
   "cell_type": "code",
   "execution_count": 1,
   "id": "6a6c925f",
   "metadata": {},
   "outputs": [],
   "source": [
    "# Wrangling\n",
    "import pandas as pd\n",
    "import numpy as np\n",
    "\n",
    "# Visualization\n",
    "import seaborn as sb\n",
    "import matplotlib.pyplot as plt\n",
    "\n",
    "# ML\n",
    "from sklearn.preprocessing import OneHotEncoder, OrdinalEncoder, LabelEncoder\n",
    "from sklearn.compose import make_column_transformer\n",
    "from sklearn.pipeline import Pipeline\n",
    "from sklearn.model_selection import train_test_split, KFold, cross_val_score, GridSearchCV\n",
    "import xgboost as xgb\n",
    "from sklearn.metrics import confusion_matrix, ConfusionMatrixDisplay, accuracy_score, classification_report\n",
    "from xgboost import plot_importance\n",
    "from matplotlib.pyplot import figure\n",
    "\n",
    "figure(figsize=(15, 8), dpi=80)"
   ]
  },
  {
   "cell_type": "code",
   "execution_count": 2,
   "id": "0335fbd0",
   "metadata": {},
   "outputs": [],
   "source": [
    "def gen_model_report(clf: xgb.XGBClassifier, Y_test: np, y_pred:np) -> None:\n",
    "    \"\"\"\n",
    "    Generates Classification Report and Confusion Matrix for the classifier/model\n",
    "    \n",
    "    Args:\n",
    "        clf (xgb classifier): XGB classifier\n",
    "        Y_test (numpy array): Test set data\n",
    "        y_pred (numpy array): Classifier/mode predicted data\n",
    "        \n",
    "    Returns:\n",
    "        None\n",
    "    \"\"\"\n",
    "    \n",
    "    # Display classification report\n",
    "    print(\"Displaying Classification Report:\")\n",
    "    print(classification_report(y_true=Y_test, y_pred=y_pred))\n",
    "    \n",
    "    # Generate confusion matrix\n",
    "    con_matrix = confusion_matrix(y_true=Y_test,\n",
    "                     y_pred=y_pred)\n",
    "    \n",
    "    # Display confusion matrix\n",
    "    print(\"Displaying Confusion Matrix:\")\n",
    "    disp = ConfusionMatrixDisplay(confusion_matrix=con_matrix,\n",
    "                                  display_labels=xgb_classifier.classes_)\n",
    "    disp.plot()"
   ]
  },
  {
   "cell_type": "markdown",
   "id": "0a44fcfe",
   "metadata": {},
   "source": [
    "## Data"
   ]
  },
  {
   "cell_type": "code",
   "execution_count": 3,
   "id": "3996388b",
   "metadata": {},
   "outputs": [],
   "source": [
    "# load data and provide headers\n",
    "# Target variable is buying_price\n",
    "data = pd.read_csv(\"../data/car.data\",\n",
    "                  names=[\"buying_price\", \n",
    "                         \"maintenance_price\", \n",
    "                         \"num_of_doors\",\n",
    "                         \"num_of_people\",\n",
    "                         \"lug_boot\",\n",
    "                         \"safety\",\n",
    "                         \"acceptability\"])"
   ]
  },
  {
   "cell_type": "code",
   "execution_count": 4,
   "id": "03e313c9",
   "metadata": {},
   "outputs": [
    {
     "data": {
      "text/html": [
       "<div>\n",
       "<style scoped>\n",
       "    .dataframe tbody tr th:only-of-type {\n",
       "        vertical-align: middle;\n",
       "    }\n",
       "\n",
       "    .dataframe tbody tr th {\n",
       "        vertical-align: top;\n",
       "    }\n",
       "\n",
       "    .dataframe thead th {\n",
       "        text-align: right;\n",
       "    }\n",
       "</style>\n",
       "<table border=\"1\" class=\"dataframe\">\n",
       "  <thead>\n",
       "    <tr style=\"text-align: right;\">\n",
       "      <th></th>\n",
       "      <th>buying_price</th>\n",
       "      <th>maintenance_price</th>\n",
       "      <th>num_of_doors</th>\n",
       "      <th>num_of_people</th>\n",
       "      <th>lug_boot</th>\n",
       "      <th>safety</th>\n",
       "      <th>acceptability</th>\n",
       "    </tr>\n",
       "  </thead>\n",
       "  <tbody>\n",
       "    <tr>\n",
       "      <th>0</th>\n",
       "      <td>vhigh</td>\n",
       "      <td>vhigh</td>\n",
       "      <td>2</td>\n",
       "      <td>2</td>\n",
       "      <td>small</td>\n",
       "      <td>low</td>\n",
       "      <td>unacc</td>\n",
       "    </tr>\n",
       "    <tr>\n",
       "      <th>1</th>\n",
       "      <td>vhigh</td>\n",
       "      <td>vhigh</td>\n",
       "      <td>2</td>\n",
       "      <td>2</td>\n",
       "      <td>small</td>\n",
       "      <td>med</td>\n",
       "      <td>unacc</td>\n",
       "    </tr>\n",
       "    <tr>\n",
       "      <th>2</th>\n",
       "      <td>vhigh</td>\n",
       "      <td>vhigh</td>\n",
       "      <td>2</td>\n",
       "      <td>2</td>\n",
       "      <td>small</td>\n",
       "      <td>high</td>\n",
       "      <td>unacc</td>\n",
       "    </tr>\n",
       "    <tr>\n",
       "      <th>3</th>\n",
       "      <td>vhigh</td>\n",
       "      <td>vhigh</td>\n",
       "      <td>2</td>\n",
       "      <td>2</td>\n",
       "      <td>med</td>\n",
       "      <td>low</td>\n",
       "      <td>unacc</td>\n",
       "    </tr>\n",
       "    <tr>\n",
       "      <th>4</th>\n",
       "      <td>vhigh</td>\n",
       "      <td>vhigh</td>\n",
       "      <td>2</td>\n",
       "      <td>2</td>\n",
       "      <td>med</td>\n",
       "      <td>med</td>\n",
       "      <td>unacc</td>\n",
       "    </tr>\n",
       "  </tbody>\n",
       "</table>\n",
       "</div>"
      ],
      "text/plain": [
       "  buying_price maintenance_price num_of_doors num_of_people lug_boot safety  \\\n",
       "0        vhigh             vhigh            2             2    small    low   \n",
       "1        vhigh             vhigh            2             2    small    med   \n",
       "2        vhigh             vhigh            2             2    small   high   \n",
       "3        vhigh             vhigh            2             2      med    low   \n",
       "4        vhigh             vhigh            2             2      med    med   \n",
       "\n",
       "  acceptability  \n",
       "0         unacc  \n",
       "1         unacc  \n",
       "2         unacc  \n",
       "3         unacc  \n",
       "4         unacc  "
      ]
     },
     "execution_count": 4,
     "metadata": {},
     "output_type": "execute_result"
    }
   ],
   "source": [
    "# Check loaded data\n",
    "data.head()"
   ]
  },
  {
   "cell_type": "code",
   "execution_count": 5,
   "id": "1efc148f",
   "metadata": {},
   "outputs": [
    {
     "name": "stdout",
     "output_type": "stream",
     "text": [
      "<class 'pandas.core.frame.DataFrame'>\n",
      "RangeIndex: 1728 entries, 0 to 1727\n",
      "Data columns (total 7 columns):\n",
      " #   Column             Non-Null Count  Dtype \n",
      "---  ------             --------------  ----- \n",
      " 0   buying_price       1728 non-null   object\n",
      " 1   maintenance_price  1728 non-null   object\n",
      " 2   num_of_doors       1728 non-null   object\n",
      " 3   num_of_people      1728 non-null   object\n",
      " 4   lug_boot           1728 non-null   object\n",
      " 5   safety             1728 non-null   object\n",
      " 6   acceptability      1728 non-null   object\n",
      "dtypes: object(7)\n",
      "memory usage: 94.6+ KB\n"
     ]
    }
   ],
   "source": [
    "data.info()"
   ]
  },
  {
   "cell_type": "code",
   "execution_count": 6,
   "id": "63d23b85",
   "metadata": {},
   "outputs": [
    {
     "data": {
      "text/plain": [
       "['vhigh', 'high', 'med', 'low']"
      ]
     },
     "execution_count": 6,
     "metadata": {},
     "output_type": "execute_result"
    }
   ],
   "source": [
    "list(data.buying_price.unique())"
   ]
  },
  {
   "cell_type": "code",
   "execution_count": 7,
   "id": "4051d46f",
   "metadata": {},
   "outputs": [
    {
     "data": {
      "text/plain": [
       "object    7\n",
       "dtype: int64"
      ]
     },
     "execution_count": 7,
     "metadata": {},
     "output_type": "execute_result"
    }
   ],
   "source": [
    "# 7 categorical variables\n",
    "data.dtypes.value_counts()"
   ]
  },
  {
   "cell_type": "code",
   "execution_count": 8,
   "id": "6e7d42b9",
   "metadata": {},
   "outputs": [],
   "source": [
    "# Extract target variable\n",
    "x = data.drop(\"buying_price\",\n",
    "                   axis=1)\n",
    "\n",
    "ml_target = data[\"buying_price\"].values\n",
    "label_encode = LabelEncoder()\n",
    "y = label_encode.fit_transform(ml_target)"
   ]
  },
  {
   "cell_type": "markdown",
   "id": "eb9f1ac2",
   "metadata": {},
   "source": [
    "## Encoders"
   ]
  },
  {
   "cell_type": "code",
   "execution_count": 9,
   "id": "f16b0f05",
   "metadata": {},
   "outputs": [
    {
     "name": "stdout",
     "output_type": "stream",
     "text": [
      "Maintenance price categories: ['vhigh', 'high', 'med', 'low']\n",
      "Lug boo categories: ['small', 'med', 'big']\n",
      "Safety categories: ['low', 'med', 'high']\n",
      "Acceptability categories: ['unacc', 'acc', 'vgood', 'good']\n"
     ]
    }
   ],
   "source": [
    "# Determine values in ordinal values \n",
    "print(\"Maintenance price categories: {}\".format(list(data[\"maintenance_price\"].unique())))\n",
    "print(\"Lug boo categories: {}\".format(list(data[\"lug_boot\"].unique())))\n",
    "print(\"Safety categories: {}\".format(list(data[\"safety\"].unique())))\n",
    "print(\"Acceptability categories: {}\".format(list(data[\"acceptability\"].unique())))\n",
    "\n",
    "# Rearrange ordinal values\n",
    "maintenance_price_cat = ['low', 'med', 'high', 'vhigh']\n",
    "lug_boot_cat = ['small', 'med', 'big']\n",
    "safety_cat = ['low', 'med', 'high']\n",
    "acceptability_cat = ['unacc', 'acc', 'good', 'vgood']"
   ]
  },
  {
   "cell_type": "code",
   "execution_count": 10,
   "id": "24d87c33",
   "metadata": {},
   "outputs": [],
   "source": [
    "# Onehot encoder\n",
    "onehot_encoder = OneHotEncoder(sparse=False, categories=\"auto\")"
   ]
  },
  {
   "cell_type": "code",
   "execution_count": 11,
   "id": "bf01e68d",
   "metadata": {},
   "outputs": [
    {
     "data": {
      "text/plain": [
       "array([[1., 0., 0., 0., 1., 0., 0.],\n",
       "       [1., 0., 0., 0., 1., 0., 0.]])"
      ]
     },
     "execution_count": 11,
     "metadata": {},
     "output_type": "execute_result"
    }
   ],
   "source": [
    "onehot_encoder.fit_transform(x[[\"num_of_doors\", \"num_of_people\"]])[:2]"
   ]
  },
  {
   "cell_type": "code",
   "execution_count": 12,
   "id": "a996790b",
   "metadata": {},
   "outputs": [
    {
     "data": {
      "text/plain": [
       "[array(['2', '3', '4', '5more'], dtype=object),\n",
       " array(['2', '4', 'more'], dtype=object)]"
      ]
     },
     "execution_count": 12,
     "metadata": {},
     "output_type": "execute_result"
    }
   ],
   "source": [
    "onehot_encoder.categories_"
   ]
  },
  {
   "cell_type": "code",
   "execution_count": 13,
   "id": "943ad0cb",
   "metadata": {},
   "outputs": [],
   "source": [
    "# Ordinal encode\n",
    "ordinal_encoder = OrdinalEncoder(\n",
    "    categories=[\n",
    "        maintenance_price_cat,\n",
    "        lug_boot_cat,\n",
    "        safety_cat,\n",
    "        acceptability_cat\n",
    "    ]\n",
    ")"
   ]
  },
  {
   "cell_type": "code",
   "execution_count": 14,
   "id": "e1b83f1c",
   "metadata": {},
   "outputs": [
    {
     "data": {
      "text/plain": [
       "array([[3., 0., 0., 0.],\n",
       "       [3., 0., 1., 0.]])"
      ]
     },
     "execution_count": 14,
     "metadata": {},
     "output_type": "execute_result"
    }
   ],
   "source": [
    "ordinal_encoder.fit_transform(x[[\"maintenance_price\", \"lug_boot\", \"safety\", \"acceptability\"]])[:2]"
   ]
  },
  {
   "cell_type": "markdown",
   "id": "a64cd2f1",
   "metadata": {},
   "source": [
    "## Generate Dataset"
   ]
  },
  {
   "cell_type": "code",
   "execution_count": 15,
   "id": "683e8c8a",
   "metadata": {},
   "outputs": [
    {
     "name": "stdout",
     "output_type": "stream",
     "text": [
      "X_train shape:  (1209, 6)\n",
      "Y_train shape:  (1209,)\n",
      "X_test shape:  (519, 6)\n",
      "Y_test shape:  (519,)\n"
     ]
    }
   ],
   "source": [
    "X_train, X_test, Y_train, Y_test = train_test_split(x, y, test_size = 0.3, random_state = 42)\n",
    "\n",
    "print(\"X_train shape: \", X_train.shape)\n",
    "print(\"Y_train shape: \", Y_train.shape)\n",
    "print(\"X_test shape: \", X_test.shape)\n",
    "print(\"Y_test shape: \", Y_test.shape)"
   ]
  },
  {
   "cell_type": "markdown",
   "id": "ab4d8a6b",
   "metadata": {},
   "source": [
    "## Baseline Model Pipeline"
   ]
  },
  {
   "cell_type": "code",
   "execution_count": 16,
   "id": "1be5eef9",
   "metadata": {},
   "outputs": [],
   "source": [
    "# Definde column transformer\n",
    "transformer = make_column_transformer(\n",
    "    (onehot_encoder, [\"num_of_doors\", \"num_of_people\"]),\n",
    "    (ordinal_encoder, [\"maintenance_price\", \"lug_boot\", \"safety\", \"acceptability\"])\n",
    ")                "
   ]
  },
  {
   "cell_type": "code",
   "execution_count": 17,
   "id": "7ef6b40b",
   "metadata": {},
   "outputs": [
    {
     "data": {
      "text/plain": [
       "array([[1., 0., 0., 0., 1., 0., 0., 3., 0., 0., 0.],\n",
       "       [1., 0., 0., 0., 1., 0., 0., 3., 0., 1., 0.]])"
      ]
     },
     "execution_count": 17,
     "metadata": {},
     "output_type": "execute_result"
    }
   ],
   "source": [
    "# Test\n",
    "transformer.fit_transform(x)[:2]"
   ]
  },
  {
   "cell_type": "code",
   "execution_count": 18,
   "id": "5189ac4f",
   "metadata": {},
   "outputs": [],
   "source": [
    "xgb_classifier = xgb.XGBClassifier(eval_metric=\"mlogloss\",\n",
    "                                  objective=\"multi:softmax\")"
   ]
  },
  {
   "cell_type": "code",
   "execution_count": 19,
   "id": "cbd6f2e9",
   "metadata": {},
   "outputs": [],
   "source": [
    "# Define pipeline\n",
    "pipeline = Pipeline(steps=[\n",
    "        ('preprocess', transformer),\n",
    "        ('xgb_clf', xgb_classifier)\n",
    "    ]\n",
    ")"
   ]
  },
  {
   "cell_type": "code",
   "execution_count": 20,
   "id": "6128cf8b",
   "metadata": {
    "scrolled": true
   },
   "outputs": [
    {
     "name": "stdout",
     "output_type": "stream",
     "text": [
      "[0]\tvalidation_0-mlogloss:1.35723\n",
      "[1]\tvalidation_0-mlogloss:1.34415\n",
      "[2]\tvalidation_0-mlogloss:1.33860\n",
      "[3]\tvalidation_0-mlogloss:1.34001\n",
      "[4]\tvalidation_0-mlogloss:1.34720\n",
      "[5]\tvalidation_0-mlogloss:1.35588\n",
      "[6]\tvalidation_0-mlogloss:1.36360\n",
      "[7]\tvalidation_0-mlogloss:1.37131\n",
      "[8]\tvalidation_0-mlogloss:1.38085\n",
      "[9]\tvalidation_0-mlogloss:1.39196\n",
      "[10]\tvalidation_0-mlogloss:1.39923\n",
      "[11]\tvalidation_0-mlogloss:1.41127\n",
      "[12]\tvalidation_0-mlogloss:1.42172\n",
      "[13]\tvalidation_0-mlogloss:1.43382\n",
      "[14]\tvalidation_0-mlogloss:1.44735\n",
      "[15]\tvalidation_0-mlogloss:1.45814\n",
      "[16]\tvalidation_0-mlogloss:1.46763\n",
      "[17]\tvalidation_0-mlogloss:1.47703\n",
      "[18]\tvalidation_0-mlogloss:1.48487\n",
      "[19]\tvalidation_0-mlogloss:1.49565\n",
      "[20]\tvalidation_0-mlogloss:1.50687\n",
      "[21]\tvalidation_0-mlogloss:1.51735\n",
      "[22]\tvalidation_0-mlogloss:1.52803\n",
      "[23]\tvalidation_0-mlogloss:1.53825\n",
      "[24]\tvalidation_0-mlogloss:1.55341\n",
      "[25]\tvalidation_0-mlogloss:1.56651\n",
      "[26]\tvalidation_0-mlogloss:1.57851\n",
      "[27]\tvalidation_0-mlogloss:1.59266\n",
      "[28]\tvalidation_0-mlogloss:1.61025\n",
      "[29]\tvalidation_0-mlogloss:1.62531\n",
      "[30]\tvalidation_0-mlogloss:1.63874\n",
      "[31]\tvalidation_0-mlogloss:1.65450\n",
      "[32]\tvalidation_0-mlogloss:1.66685\n",
      "[33]\tvalidation_0-mlogloss:1.67851\n",
      "[34]\tvalidation_0-mlogloss:1.69058\n",
      "[35]\tvalidation_0-mlogloss:1.70442\n",
      "[36]\tvalidation_0-mlogloss:1.71609\n",
      "[37]\tvalidation_0-mlogloss:1.72880\n",
      "[38]\tvalidation_0-mlogloss:1.73957\n",
      "[39]\tvalidation_0-mlogloss:1.75085\n",
      "[40]\tvalidation_0-mlogloss:1.76535\n",
      "[41]\tvalidation_0-mlogloss:1.77613\n",
      "[42]\tvalidation_0-mlogloss:1.78610\n",
      "[43]\tvalidation_0-mlogloss:1.79939\n",
      "[44]\tvalidation_0-mlogloss:1.81083\n",
      "[45]\tvalidation_0-mlogloss:1.81994\n",
      "[46]\tvalidation_0-mlogloss:1.82877\n",
      "[47]\tvalidation_0-mlogloss:1.83864\n",
      "[48]\tvalidation_0-mlogloss:1.84865\n",
      "[49]\tvalidation_0-mlogloss:1.85739\n",
      "[50]\tvalidation_0-mlogloss:1.87040\n",
      "[51]\tvalidation_0-mlogloss:1.87928\n",
      "[52]\tvalidation_0-mlogloss:1.88827\n",
      "[53]\tvalidation_0-mlogloss:1.89744\n",
      "[54]\tvalidation_0-mlogloss:1.90644\n",
      "[55]\tvalidation_0-mlogloss:1.91565\n",
      "[56]\tvalidation_0-mlogloss:1.92254\n",
      "[57]\tvalidation_0-mlogloss:1.93132\n",
      "[58]\tvalidation_0-mlogloss:1.94042\n",
      "[59]\tvalidation_0-mlogloss:1.94801\n",
      "[60]\tvalidation_0-mlogloss:1.95513\n",
      "[61]\tvalidation_0-mlogloss:1.96184\n",
      "[62]\tvalidation_0-mlogloss:1.96888\n",
      "[63]\tvalidation_0-mlogloss:1.97549\n",
      "[64]\tvalidation_0-mlogloss:1.98254\n",
      "[65]\tvalidation_0-mlogloss:1.98842\n",
      "[66]\tvalidation_0-mlogloss:1.99435\n",
      "[67]\tvalidation_0-mlogloss:2.00056\n",
      "[68]\tvalidation_0-mlogloss:2.00795\n",
      "[69]\tvalidation_0-mlogloss:2.01388\n",
      "[70]\tvalidation_0-mlogloss:2.02047\n",
      "[71]\tvalidation_0-mlogloss:2.02648\n",
      "[72]\tvalidation_0-mlogloss:2.03191\n",
      "[73]\tvalidation_0-mlogloss:2.04040\n",
      "[74]\tvalidation_0-mlogloss:2.04701\n",
      "[75]\tvalidation_0-mlogloss:2.05380\n",
      "[76]\tvalidation_0-mlogloss:2.06044\n",
      "[77]\tvalidation_0-mlogloss:2.06742\n",
      "[78]\tvalidation_0-mlogloss:2.07406\n",
      "[79]\tvalidation_0-mlogloss:2.08171\n",
      "[80]\tvalidation_0-mlogloss:2.08681\n",
      "[81]\tvalidation_0-mlogloss:2.09406\n",
      "[82]\tvalidation_0-mlogloss:2.10113\n",
      "[83]\tvalidation_0-mlogloss:2.10778\n",
      "[84]\tvalidation_0-mlogloss:2.11280\n",
      "[85]\tvalidation_0-mlogloss:2.11960\n",
      "[86]\tvalidation_0-mlogloss:2.12624\n",
      "[87]\tvalidation_0-mlogloss:2.13202\n",
      "[88]\tvalidation_0-mlogloss:2.13748\n",
      "[89]\tvalidation_0-mlogloss:2.14426\n",
      "[90]\tvalidation_0-mlogloss:2.14963\n",
      "[91]\tvalidation_0-mlogloss:2.15426\n",
      "[92]\tvalidation_0-mlogloss:2.15945\n",
      "[93]\tvalidation_0-mlogloss:2.16505\n",
      "[94]\tvalidation_0-mlogloss:2.17157\n",
      "[95]\tvalidation_0-mlogloss:2.17681\n",
      "[96]\tvalidation_0-mlogloss:2.18237\n",
      "[97]\tvalidation_0-mlogloss:2.18707\n",
      "[98]\tvalidation_0-mlogloss:2.19189\n",
      "[99]\tvalidation_0-mlogloss:2.19605\n"
     ]
    },
    {
     "data": {
      "text/plain": [
       "Pipeline(steps=[('preprocess',\n",
       "                 ColumnTransformer(transformers=[('onehotencoder',\n",
       "                                                  OneHotEncoder(sparse=False),\n",
       "                                                  ['num_of_doors',\n",
       "                                                   'num_of_people']),\n",
       "                                                 ('ordinalencoder',\n",
       "                                                  OrdinalEncoder(categories=[['low',\n",
       "                                                                              'med',\n",
       "                                                                              'high',\n",
       "                                                                              'vhigh'],\n",
       "                                                                             ['small',\n",
       "                                                                              'med',\n",
       "                                                                              'big'],\n",
       "                                                                             ['low',\n",
       "                                                                              'med',\n",
       "                                                                              'high'],\n",
       "                                                                             ['unacc',\n",
       "                                                                              'acc',\n",
       "                                                                              'good',\n",
       "                                                                              'vgood']]),\n",
       "                                                  ['maintenance_price',\n",
       "                                                   'lug_boot', 'safety',\n",
       "                                                   'acceptability'])]...\n",
       "                               feature_types=None, gamma=0, gpu_id=-1,\n",
       "                               grow_policy='depthwise', importance_type=None,\n",
       "                               interaction_constraints='',\n",
       "                               learning_rate=0.300000012, max_bin=256,\n",
       "                               max_cat_threshold=64, max_cat_to_onehot=4,\n",
       "                               max_delta_step=0, max_depth=6, max_leaves=0,\n",
       "                               min_child_weight=1, missing=nan,\n",
       "                               monotone_constraints='()', n_estimators=100,\n",
       "                               n_jobs=0, num_parallel_tree=1,\n",
       "                               objective='multi:softmax', predictor='auto', ...))])"
      ]
     },
     "execution_count": 20,
     "metadata": {},
     "output_type": "execute_result"
    }
   ],
   "source": [
    "eval_set = [(transformer.fit_transform(X_test), Y_test)]\n",
    "pipeline.fit(X_train, Y_train, xgb_clf__eval_set=eval_set)"
   ]
  },
  {
   "cell_type": "markdown",
   "id": "6031bea6",
   "metadata": {},
   "source": [
    "## Baseline Model results"
   ]
  },
  {
   "cell_type": "code",
   "execution_count": 21,
   "id": "396e8bac",
   "metadata": {},
   "outputs": [],
   "source": [
    "y_pred = xgb_classifier.predict(transformer.fit_transform(X_test))"
   ]
  },
  {
   "cell_type": "code",
   "execution_count": 22,
   "id": "c1848c75",
   "metadata": {},
   "outputs": [
    {
     "name": "stdout",
     "output_type": "stream",
     "text": [
      "Displaying Classification Report:\n",
      "              precision    recall  f1-score   support\n",
      "\n",
      "           0       0.02      0.02      0.02       133\n",
      "           1       0.15      0.13      0.14       135\n",
      "           2       0.06      0.07      0.07       124\n",
      "           3       0.09      0.09      0.09       127\n",
      "\n",
      "    accuracy                           0.08       519\n",
      "   macro avg       0.08      0.08      0.08       519\n",
      "weighted avg       0.08      0.08      0.08       519\n",
      "\n",
      "Displaying Confusion Matrix:\n"
     ]
    },
    {
     "data": {
      "image/png": "[encoded data removed]",
      "text/plain": [
       "<Figure size 432x288 with 2 Axes>"
      ]
     },
     "metadata": {
      "needs_background": "light"
     },
     "output_type": "display_data"
    }
   ],
   "source": [
    "gen_model_report(xgb_classifier, Y_test, y_pred)"
   ]
  },
  {
   "cell_type": "code",
   "execution_count": null,
   "id": "199eff79",
   "metadata": {},
   "outputs": [],
   "source": [
    "accuracy = accuracy_score(y_test, yhat)\n",
    "print('Accuracy: %.2f' % (accuracy*100))"
   ]
  },
  {
   "cell_type": "markdown",
   "id": "71ac53cd",
   "metadata": {},
   "source": [
    "## Baseline: 8%"
   ]
  },
  {
   "cell_type": "markdown",
   "id": "24f08669",
   "metadata": {},
   "source": [
    "## Improve Model"
   ]
  },
  {
   "cell_type": "code",
   "execution_count": 41,
   "id": "3323c2e9",
   "metadata": {},
   "outputs": [],
   "source": [
    "prefix = \"xgb_clf__\"\n",
    "parameters = {\n",
    "    f\"{prefix}learning_rate\": [0.01, 0.05, 0.1, 0.15, 0.2],\n",
    "    f\"{prefix}n_estimators\": [100, 400, 500, 600, 1000],\n",
    "    f\"{prefix}max_depth\": [3, 4, 5, 6, 7, 8]\n",
    "}"
   ]
  },
  {
   "cell_type": "code",
   "execution_count": 42,
   "id": "687c60a6",
   "metadata": {},
   "outputs": [],
   "source": [
    "grid = GridSearchCV(pipeline, parameters, cv=10).fit(X_train, Y_train)"
   ]
  },
  {
   "cell_type": "code",
   "execution_count": 36,
   "id": "6469a5e5",
   "metadata": {},
   "outputs": [
    {
     "name": "stdout",
     "output_type": "stream",
     "text": [
      "Training set score: 0.44499586435070304\n",
      "Test set score: 0.1464354527938343\n"
     ]
    }
   ],
   "source": [
    "print('Training set score: ' + str(grid.score(X_train, Y_train)))\n",
    "print('Test set score: ' + str(grid.score(X_test, Y_test)))"
   ]
  },
  {
   "cell_type": "code",
   "execution_count": 43,
   "id": "fd69308c",
   "metadata": {},
   "outputs": [
    {
     "name": "stdout",
     "output_type": "stream",
     "text": [
      "Training set score: 0.3564929693961952\n",
      "Test set score: 0.3044315992292871\n"
     ]
    }
   ],
   "source": [
    "print('Training set score: ' + str(grid.score(X_train, Y_train)))\n",
    "print('Test set score: ' + str(grid.score(X_test, Y_test)))"
   ]
  },
  {
   "cell_type": "code",
   "execution_count": 44,
   "id": "b3139bfa",
   "metadata": {},
   "outputs": [
    {
     "name": "stdout",
     "output_type": "stream",
     "text": [
      "{'xgb_clf__learning_rate': 0.01, 'xgb_clf__max_depth': 3, 'xgb_clf__n_estimators': 100}\n"
     ]
    }
   ],
   "source": [
    "best_params = grid.best_params_\n",
    "print(best_params)"
   ]
  },
  {
   "cell_type": "code",
   "execution_count": 45,
   "id": "d417f120",
   "metadata": {},
   "outputs": [
    {
     "name": "stdout",
     "output_type": "stream",
     "text": [
      "Pipeline(steps=[('preprocess',\n",
      "                 ColumnTransformer(transformers=[('onehotencoder',\n",
      "                                                  OneHotEncoder(sparse=False),\n",
      "                                                  ['num_of_doors',\n",
      "                                                   'num_of_people']),\n",
      "                                                 ('ordinalencoder',\n",
      "                                                  OrdinalEncoder(categories=[['low',\n",
      "                                                                              'med',\n",
      "                                                                              'high',\n",
      "                                                                              'vhigh'],\n",
      "                                                                             ['small',\n",
      "                                                                              'med',\n",
      "                                                                              'big'],\n",
      "                                                                             ['low',\n",
      "                                                                              'med',\n",
      "                                                                              'high'],\n",
      "                                                                             ['unacc',\n",
      "                                                                              'acc',\n",
      "                                                                              'good',\n",
      "                                                                              'vgood']]),\n",
      "                                                  ['maintenance_price',\n",
      "                                                   'lug_boot', 'safety',\n",
      "                                                   'acceptability'])]...\n",
      "                               feature_types=None, gamma=0, gpu_id=-1,\n",
      "                               grow_policy='depthwise', importance_type=None,\n",
      "                               interaction_constraints='', learning_rate=0.01,\n",
      "                               max_bin=256, max_cat_threshold=64,\n",
      "                               max_cat_to_onehot=4, max_delta_step=0,\n",
      "                               max_depth=3, max_leaves=0, min_child_weight=1,\n",
      "                               missing=nan, monotone_constraints='()',\n",
      "                               n_estimators=100, n_jobs=0, num_parallel_tree=1,\n",
      "                               objective='multi:softmax', predictor='auto', ...))])\n"
     ]
    }
   ],
   "source": [
    "best_pipe = grid.best_estimator_\n",
    "print(best_pipe)"
   ]
  },
  {
   "cell_type": "code",
   "execution_count": 48,
   "id": "f9060e43",
   "metadata": {},
   "outputs": [],
   "source": [
    "y_pred = xgb_classifier.predict(transformer.fit_transform(X_test))"
   ]
  },
  {
   "cell_type": "code",
   "execution_count": 49,
   "id": "fc16243d",
   "metadata": {},
   "outputs": [
    {
     "name": "stdout",
     "output_type": "stream",
     "text": [
      "Displaying Classification Report:\n",
      "              precision    recall  f1-score   support\n",
      "\n",
      "           0       0.02      0.02      0.02       133\n",
      "           1       0.15      0.13      0.14       135\n",
      "           2       0.06      0.07      0.07       124\n",
      "           3       0.09      0.09      0.09       127\n",
      "\n",
      "    accuracy                           0.08       519\n",
      "   macro avg       0.08      0.08      0.08       519\n",
      "weighted avg       0.08      0.08      0.08       519\n",
      "\n",
      "Displaying Confusion Matrix:\n"
     ]
    },
    {
     "data": {
      "image/png": "[encoded data removed]",
      "text/plain": [
       "<Figure size 432x288 with 2 Axes>"
      ]
     },
     "metadata": {
      "needs_background": "light"
     },
     "output_type": "display_data"
    }
   ],
   "source": [
    "gen_model_report(xgb_classifier, Y_test, y_pred)"
   ]
  },
  {
   "cell_type": "code",
   "execution_count": 51,
   "id": "621fa9a6",
   "metadata": {},
   "outputs": [
    {
     "name": "stdout",
     "output_type": "stream",
     "text": [
      "Accuracy: 7.71\n"
     ]
    }
   ],
   "source": [
    "accuracy = accuracy_score(Y_test, y_pred)\n",
    "print('Accuracy: %.2f' % (accuracy*100))"
   ]
  },
  {
   "cell_type": "code",
   "execution_count": null,
   "id": "0ab657da",
   "metadata": {},
   "outputs": [],
   "source": []
  }
 ],
 "metadata": {
  "kernelspec": {
   "display_name": "Python 3 (ipykernel)",
   "language": "python",
   "name": "python3"
  },
  "language_info": {
   "codemirror_mode": {
    "name": "ipython",
    "version": 3
   },
   "file_extension": ".py",
   "mimetype": "text/x-python",
   "name": "python",
   "nbconvert_exporter": "python",
   "pygments_lexer": "ipython3",
   "version": "3.9.7"
  }
 },
 "nbformat": 4,
 "nbformat_minor": 5
}
